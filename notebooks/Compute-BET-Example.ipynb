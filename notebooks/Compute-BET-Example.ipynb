{
 "metadata": {
  "name": "",
  "signature": "sha256:d11cdefc288b54705746271684ca4b6aeebc4741906b51833197d4cfbd02ca40"
 },
 "nbformat": 3,
 "nbformat_minor": 0,
 "worksheets": [
  {
   "cells": [
    {
     "cell_type": "markdown",
     "metadata": {},
     "source": [
      "# FSL BET Example\n",
      "\n",
      "Demonstrates calling the NiQuery Compute API with a turtle file "
     ]
    },
    {
     "cell_type": "code",
     "collapsed": false,
     "input": [],
     "language": "python",
     "metadata": {},
     "outputs": []
    }
   ],
   "metadata": {}
  }
 ]
}