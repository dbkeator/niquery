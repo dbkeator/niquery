{
 "metadata": {
  "name": "",
  "signature": "sha256:ef25e119d7e712f5c7568d96e6d80ed3fe558488e68b2916f807b8f8bc113380"
 },
 "nbformat": 3,
 "nbformat_minor": 0,
 "worksheets": [
  {
   "cells": [
    {
     "cell_type": "code",
     "collapsed": false,
     "input": [
      "from IPython.display import HTML"
     ],
     "language": "python",
     "metadata": {},
     "outputs": [],
     "prompt_number": 1
    },
    {
     "cell_type": "code",
     "collapsed": false,
     "input": [
      "script = \"\"\"\n",
      "            <div id=\"display\"></div>\n",
      "            Wireframe: <input id=\"wireframe\" type=\"checkbox\"/>\n",
      "            <script src=\"jquery.min.js\"></script>\n",
      "            <script>\n",
      "            function init(viewer) {\n",
      "            $(\"#wireframe\").change(function() {\n",
      "            viewer.setWireframe($(this).is(\":checked\"));\n",
      "            });\n",
      "            }\n",
      "            $(\"#display\").load(\"https://brainbrowser.cbrain.mcgill.ca/surface-viewer-widget?version=2.0.0&viewer_callback=init&model=https://s3-us-west-2.amazonaws.com/nicholsn/brain-surface.obj\");   \n",
      "            </script>\n",
      "        \"\"\""
     ],
     "language": "python",
     "metadata": {},
     "outputs": [],
     "prompt_number": 3
    },
    {
     "cell_type": "code",
     "collapsed": false,
     "input": [],
     "language": "python",
     "metadata": {},
     "outputs": []
    }
   ],
   "metadata": {}
  }
 ]
}