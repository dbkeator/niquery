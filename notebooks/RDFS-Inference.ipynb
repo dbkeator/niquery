{
 "metadata": {
  "name": "",
  "signature": "sha256:9e1eae90e27a5e18fbcf555c4adc7b52de2bc7d6b3183161be061600e10dd025"
 },
 "nbformat": 3,
 "nbformat_minor": 0,
 "worksheets": [
  {
   "cells": [
    {
     "cell_type": "markdown",
     "metadata": {},
     "source": [
      "# Example of using RDFS Inference\n",
      "\n",
      "- Load a simple RDF Graph\n",
      "- Query the RDF Graph to show type information\n",
      "- Expand the RDF Graph using an RDFS/OWL Ontology\n",
      "- Run the same query to see inferred types"
     ]
    },
    {
     "cell_type": "code",
     "collapsed": false,
     "input": [
      "import rdflib\n",
      "import RDFClosure"
     ],
     "language": "python",
     "metadata": {},
     "outputs": [],
     "prompt_number": 1
    },
    {
     "cell_type": "markdown",
     "metadata": {},
     "source": [
      "### Load a simple RDF Graph\n",
      "\n",
      "- A NIDM Summary-level dataset descriptor of the OpenfMRI database"
     ]
    },
    {
     "cell_type": "code",
     "collapsed": false,
     "input": [
      "g = rdflib.Graph()\n",
      "\n",
      "g.parse('data/nidm-desc-sum-database-level.ttl', format='turtle')\n",
      "print g.serialize(format='turtle')"
     ],
     "language": "python",
     "metadata": {},
     "outputs": [
      {
       "output_type": "stream",
       "stream": "stdout",
       "text": [
        "@prefix : <http://openfmri.s3.amazonaws.com/nidm.ttl#> .\n",
        "@prefix dcat: <http://www.w3.org/ns/dcat#> .\n",
        "@prefix dct: <http://purl.org/dc/terms/> .\n",
        "@prefix dctypes: <http://purl.org/dc/dcmitype/> .\n",
        "@prefix nidm: <http://www.incf.org/ns/nidash/nidm#> .\n",
        "@prefix pav: <http://purl.org/pav/> .\n",
        "@prefix prov: <http://www.w3.org/ns/prov#> .\n",
        "@prefix rdf: <http://www.w3.org/1999/02/22-rdf-syntax-ns#> .\n",
        "@prefix rdfs: <http://www.w3.org/2000/01/rdf-schema#> .\n",
        "@prefix schemaorg: <http://schema.org/> .\n",
        "@prefix void: <http://www.w3.org/TR/void/> .\n",
        "@prefix xml: <http://www.w3.org/XML/1998/namespace> .\n",
        "@prefix xsd: <http://www.w3.org/2001/XMLSchema#> .\n",
        "\n",
        ":openfmri a dctypes:Dataset,\n",
        "        nidm:Database,\n",
        "        prov:Collection ;\n",
        "    dct:description \"\"\"OpenfMRI.org is a project dedicated to the free and\n",
        "                       open sharing of functional magnetic resonance imaging\n",
        "                       (fMRI) datasets, including raw data.\"\"\"@en ;\n",
        "    dct:hasPart :ds000001,\n",
        "        :ds000005,\n",
        "        :ds000113 ;\n",
        "    dct:license <http://www.opendatacommons.org/licenses/pddl/1.0/> ;\n",
        "    dct:publisher <https://openfmri.org> ;\n",
        "    dct:title \"OpenfMRI\"@en ;\n",
        "    schemaorg:logo <https://openfmri.org/sites/all/themes/openfmri/logo.png> ;\n",
        "    dcat:accessURL <https://openfmri.org> ;\n",
        "    dcat:theme <http://dbpedia.org/page/Neuroimaging> .\n",
        "\n",
        "\n"
       ]
      }
     ],
     "prompt_number": 2
    },
    {
     "cell_type": "markdown",
     "metadata": {},
     "source": [
      "### Query the RDF Graph to show type information\n",
      "\n",
      "- Query the OpenfMRI Resource and show its types"
     ]
    },
    {
     "cell_type": "code",
     "collapsed": false,
     "input": [
      "query = \"\"\"CONSTRUCT { :openfmri a ?type . }\n",
      "           WHERE { :openfmri a ?type . }\n",
      "        \"\"\"\n",
      "result = g.query(query)\n",
      "print result.serialize(format='turtle')"
     ],
     "language": "python",
     "metadata": {},
     "outputs": [
      {
       "output_type": "stream",
       "stream": "stdout",
       "text": [
        "@prefix rdf: <http://www.w3.org/1999/02/22-rdf-syntax-ns#> .\n",
        "@prefix rdfs: <http://www.w3.org/2000/01/rdf-schema#> .\n",
        "@prefix xml: <http://www.w3.org/XML/1998/namespace> .\n",
        "@prefix xsd: <http://www.w3.org/2001/XMLSchema#> .\n",
        "\n",
        "<http://openfmri.s3.amazonaws.com/nidm.ttl#openfmri> a <http://purl.org/dc/dcmitype/Dataset>,\n",
        "        <http://www.incf.org/ns/nidash/nidm#Database>,\n",
        "        <http://www.w3.org/ns/prov#Collection> .\n",
        "\n",
        "\n"
       ]
      }
     ],
     "prompt_number": 3
    },
    {
     "cell_type": "markdown",
     "metadata": {},
     "source": [
      "### Expand the RDF Graph using an RDFS/OWL Ontology\n",
      "\n",
      "- load the prov ontology \n",
      "- create an rdfs deductive reasoner\n",
      "- expand the openfmri graph using rdfs semantics"
     ]
    },
    {
     "cell_type": "code",
     "collapsed": false,
     "input": [
      "g.parse(location='http://www.w3.org/ns/prov.ttl', format='turtle')\n",
      "rdfs = RDFClosure.DeductiveClosure(RDFClosure.RDFS_Semantics)\n",
      "rdfs.expand(g)"
     ],
     "language": "python",
     "metadata": {},
     "outputs": [],
     "prompt_number": 4
    },
    {
     "cell_type": "markdown",
     "metadata": {},
     "source": [
      "### Run the same query to see inferred types"
     ]
    },
    {
     "cell_type": "code",
     "collapsed": false,
     "input": [
      "result = g.query(query)\n",
      "print result.serialize(format='turtle')"
     ],
     "language": "python",
     "metadata": {},
     "outputs": [
      {
       "output_type": "stream",
       "stream": "stdout",
       "text": [
        "@prefix rdf: <http://www.w3.org/1999/02/22-rdf-syntax-ns#> .\n",
        "@prefix rdfs: <http://www.w3.org/2000/01/rdf-schema#> .\n",
        "@prefix xml: <http://www.w3.org/XML/1998/namespace> .\n",
        "@prefix xsd: <http://www.w3.org/2001/XMLSchema#> .\n",
        "\n",
        "<http://openfmri.s3.amazonaws.com/nidm.ttl#openfmri> a <http://purl.org/dc/dcmitype/Dataset>,\n",
        "        <http://www.incf.org/ns/nidash/nidm#Database>,\n",
        "        rdfs:Resource,\n",
        "        <http://www.w3.org/ns/prov#Collection>,\n",
        "        <http://www.w3.org/ns/prov#Entity> .\n",
        "\n",
        "\n"
       ]
      }
     ],
     "prompt_number": 5
    },
    {
     "cell_type": "markdown",
     "metadata": {},
     "source": [
      "### Summary\n",
      "\n",
      "We loaded an rdf graph describing the OpenfMRI database and then expanded the set of triples in the graph using RDFS reasoning over the PROV Ontology.\n",
      "\n",
      "The `:openfmri` resource was appropriately given the following additional types:\n",
      "\n",
      "- http://www.w3.org/2000/01/rdf-schema#Resource\n",
      "- http://www.w3.org/ns/prov#Entity"
     ]
    }
   ],
   "metadata": {}
  }
 ]
}